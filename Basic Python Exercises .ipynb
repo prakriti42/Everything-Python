{
 "cells": [
  {
   "cell_type": "markdown",
   "id": "0c928d5c",
   "metadata": {},
   "source": [
    "### Displaying Fibonacci series up to 10 terms. \n"
   ]
  },
  {
   "cell_type": "code",
   "execution_count": 8,
   "id": "a8c6fa35",
   "metadata": {},
   "outputs": [
    {
     "name": "stdout",
     "output_type": "stream",
     "text": [
      "The Fibbionaci series for 10 terms: \n",
      "10 10 20 30 50 80 130 210 340 550 "
     ]
    }
   ],
   "source": [
    "i, a , b= 10 , 0 , 10\n",
    "\n",
    "print(\"The Fibbionaci series for 10 terms: \")\n",
    "for i in range(10) :\n",
    "    t = a + b \n",
    "    print (t, end =\" \")\n",
    "    b = a \n",
    "    a = t "
   ]
  },
  {
   "cell_type": "markdown",
   "id": "1472c318",
   "metadata": {},
   "source": [
    "### Finding the factorial of a given number. Ask the user to provide the number. "
   ]
  },
  {
   "cell_type": "code",
   "execution_count": 9,
   "id": "6e23fbb9",
   "metadata": {},
   "outputs": [
    {
     "name": "stdout",
     "output_type": "stream",
     "text": [
      "Enter a number:\t5\n",
      "The factorial of the input number is 120\n"
     ]
    }
   ],
   "source": [
    "num = int(input(\"Enter a number:\\t\"))\n",
    "res = 1 \n",
    "for i in range(1,num + 1): \n",
    "    res = res *  i\n",
    "\n",
    "print(f\"The factorial of the input number is {res}\")"
   ]
  },
  {
   "cell_type": "markdown",
   "id": "3abbbb3c",
   "metadata": {},
   "source": [
    "### Writing a program to print a right angle triangle using the for loop."
   ]
  },
  {
   "cell_type": "code",
   "execution_count": 11,
   "id": "0ee22d1a",
   "metadata": {},
   "outputs": [
    {
     "name": "stdout",
     "output_type": "stream",
     "text": [
      "\n",
      "*\n",
      "**\n",
      "***\n",
      "****\n",
      "*****\n",
      "******\n",
      "*******\n",
      "********\n",
      "*********\n",
      "**********\n",
      "***********\n",
      "************\n",
      "*************\n",
      "**************\n",
      "***************\n",
      "****************\n",
      "*****************\n",
      "******************\n",
      "*******************\n"
     ]
    }
   ],
   "source": [
    "i , j = 20 , 0 \n",
    "\n",
    "while i > 0 : \n",
    "    while j < i:\n",
    "        print(\"*\" * j)\n",
    "        j = j + 1\n",
    "    i = i - 1\n",
    "    \n",
    "        \n",
    "        "
   ]
  },
  {
   "cell_type": "markdown",
   "id": "be92f3d9",
   "metadata": {},
   "source": [
    "# Exercise on Functions \n"
   ]
  },
  {
   "cell_type": "markdown",
   "id": "1709f166",
   "metadata": {},
   "source": [
    "### Making a simple calculator that can add, subtract, multiply and divide two numbers using function. \n"
   ]
  },
  {
   "cell_type": "code",
   "execution_count": 4,
   "id": "4bf7ae3e",
   "metadata": {},
   "outputs": [
    {
     "name": "stdout",
     "output_type": "stream",
     "text": [
      "Enter the first number\t10\n",
      "Enter the second number\t10\n",
      "Enter the value corresponding to the action to perform.\n",
      "\n",
      " + for Addition \n",
      " - for Subtraction \n",
      " / for Divive \n",
      " * for Multiplication \n",
      "\n",
      "**********\n",
      "Input here: \t*\n",
      "Action received as *\n",
      "The result for multiplication of 10 and 10 is 100\n"
     ]
    }
   ],
   "source": [
    "\n",
    "def add(a,b):\n",
    "    return a + b \n",
    "\n",
    "def mul(a,b):\n",
    "    return a * b \n",
    "\n",
    "def sub(a,b):\n",
    "    return a - b\n",
    "\n",
    "def div(a,b):\n",
    "    return a/b\n",
    "\n",
    "num1 = int(input(\"Enter the first number\\t\"))\n",
    "num2 = int(input(\"Enter the second number\\t\"))\n",
    "\n",
    "print(\"Enter the value corresponding to the action to perform.\\n\")\n",
    "print(\" + for Addition \\n - for Subtraction \\n / for Divive \\n * for Multiplication \\n\")\n",
    "print(\"**********\")\n",
    "\n",
    "val= input(\"Input here: \\t\")\n",
    "\n",
    "if val == \"+\" :\n",
    "    print(f\"Action received as {val}\")\n",
    "    print(f\"The result for addition of {num1} and {num2} is {add(num1,num2)}\")\n",
    "elif val == \"-\": \n",
    "    print(f\"Action received as {val}\")\n",
    "    print(f\"The result for subtraction of {num1} and {num2} is {sub(num1,num2)}\")\n",
    "elif val == \"/\": \n",
    "    print(f\"Action received as {val}\")\n",
    "    print(f\"The result for division of {num1} and {num2} is {div(num1,num2)}\")\n",
    "elif val == \"*\": \n",
    "    print(f\"Action received as {val}\")\n",
    "    print(f\"The result for multiplication of {num1} and {num2} is {mul(num1,num2)}\")\n",
    "\n"
   ]
  },
  {
   "cell_type": "markdown",
   "id": "8d6724d8",
   "metadata": {},
   "source": [
    "# Exercise on List and Dictionaries \n"
   ]
  },
  {
   "cell_type": "markdown",
   "id": "d11af716",
   "metadata": {},
   "source": [
    "### Removing the first duplicate element of a list \n"
   ]
  },
  {
   "cell_type": "code",
   "execution_count": 5,
   "id": "0bf8908b",
   "metadata": {},
   "outputs": [
    {
     "data": {
      "text/plain": [
       "['banana', 'cherry', 'kiwi', 'mango']"
      ]
     },
     "execution_count": 5,
     "metadata": {},
     "output_type": "execute_result"
    }
   ],
   "source": [
    "fruits = [\"apple\", \"banana\", \"cherry\", \"kiwi\", \"mango\"]\n",
    "\n",
    "del(fruits[:1])\n",
    "\n",
    "fruits "
   ]
  },
  {
   "cell_type": "markdown",
   "id": "abfe148b",
   "metadata": {},
   "source": [
    "### Writing a Python program to create a new dictionary by extracting the mentioned keys from the below dictionary. \n",
    "* sample_dict = { \"name\": \"Anderson\", \"age\": 35, \"salary\": 5000, \"city\": \"London\"} \n",
    "* keys = [\"name\", \"salary\"] \n"
   ]
  },
  {
   "cell_type": "code",
   "execution_count": 6,
   "id": "d80d4a06",
   "metadata": {},
   "outputs": [
    {
     "data": {
      "text/plain": [
       "{'name': 'Anderson', 'salary': 5000}"
      ]
     },
     "execution_count": 6,
     "metadata": {},
     "output_type": "execute_result"
    }
   ],
   "source": [
    "sample_dict = { \"name\": \"Anderson\", \"age\": 35, \"salary\": 5000, \"city\": \"London\"}\n",
    "\n",
    "new_dict = {}\n",
    "for key,values in sample_dict.items():\n",
    "    if key == \"name\" or key == \"salary\" : \n",
    "        new_dict[key] = values \n",
    "    \n",
    "new_dict\n"
   ]
  },
  {
   "cell_type": "markdown",
   "id": "c5903de8",
   "metadata": {},
   "source": [
    "### Writing a Python program to convert two lists into a dictionary in a way that item from list_one is the key and item from list_two is the value. \n",
    "* list_one = ['one', 'two', 'three'] \n",
    "* list_two = [1, 2, 3]  \n"
   ]
  },
  {
   "cell_type": "code",
   "execution_count": 7,
   "id": "3bc8fc9f",
   "metadata": {},
   "outputs": [
    {
     "data": {
      "text/plain": [
       "{'one': 1, 'two': 2, 'three': 3}"
      ]
     },
     "execution_count": 7,
     "metadata": {},
     "output_type": "execute_result"
    }
   ],
   "source": [
    "\n",
    "list_one = ['one', 'two', 'three']\n",
    "list_two = [1, 2, 3] \n",
    "mydict = {}\n",
    "for key, value in zip(list_one, list_two):\n",
    "    mydict[key] = value\n",
    
    "mydict"
   ]
  }
 ],
 "metadata": {
  "kernelspec": {
   "display_name": "Python 3 (ipykernel)",
   "language": "python",
   "name": "python3"
  },
  "language_info": {
   "codemirror_mode": {
    "name": "ipython",
    "version": 3
   },
   "file_extension": ".py",
   "mimetype": "text/x-python",
   "name": "python",
   "nbconvert_exporter": "python",
   "pygments_lexer": "ipython3",
   "version": "3.9.7"
  }
 },
 "nbformat": 4,
 "nbformat_minor": 5
}
