{
 "cells": [
  {
   "cell_type": "markdown",
   "id": "e20dd84d",
   "metadata": {},
   "source": [
    " #### Detecting if a word is palindrome."
   ]
  },
  {
   "cell_type": "code",
   "execution_count": 74,
   "id": "045bbf75",
   "metadata": {},
   "outputs": [
    {
     "name": "stdout",
     "output_type": "stream",
     "text": [
      "Enter a word.\tmadam\n",
      "Your input is a palindrome\n"
     ]
    }
   ],
   "source": [
    "word = (input(\"Enter a word.\\t\")).lower()\n",
    "reverse = word[::-1]\n",
    "print(\"Your input is a palindrome\" if word == reverse else \"Your input is not a palindrome\")"
   ]
  },
  {
   "cell_type": "markdown",
   "id": "d35b5a9f",
   "metadata": {},
   "source": [
    "#### Functions In Python "
   ]
  },
  {
   "cell_type": "code",
   "execution_count": 75,
   "id": "88a7ea49",
   "metadata": {},
   "outputs": [
    {
     "name": "stdout",
     "output_type": "stream",
     "text": [
      "Hello Viewer!\n"
     ]
    }
   ],
   "source": [
    "def sayHi(name):\n",
    "    print(\"Hello {}!\".format(name))\n",
    "sayHi(\"Viewer\")"
   ]
  },
  {
   "cell_type": "markdown",
   "id": "d5e05659",
   "metadata": {},
   "source": [
    "#### Interchanging function names"
   ]
  },
  {
   "cell_type": "code",
   "execution_count": 76,
   "id": "0752dba2",
   "metadata": {},
   "outputs": [
    {
     "name": "stdout",
     "output_type": "stream",
     "text": [
      "Hello User!\n"
     ]
    }
   ],
   "source": [
    "greet = sayHi   \n",
    "del sayHi\n",
    "greet(\"User\")"
   ]
  },
  {
   "cell_type": "markdown",
   "id": "40de626a",
   "metadata": {},
   "source": [
    "##### 1.1 Functions With Basic Parameter "
   ]
  },
  {
   "cell_type": "code",
   "execution_count": 77,
   "id": "9c5720c4",
   "metadata": {},
   "outputs": [
    {
     "name": "stdout",
     "output_type": "stream",
     "text": [
      "256\n"
     ]
    }
   ],
   "source": [
    "def power(x,y):\n",
    "\treturn x ** y\n",
    "result = power(2,2)\n",
    "print(power(result , power(2,2)))"
   ]
  },
  {
   "cell_type": "markdown",
   "id": "de303d66",
   "metadata": {},
   "source": [
    "#### 1.2 Functions with various parameter types "
   ]
  },
  {
   "cell_type": "code",
   "execution_count": 41,
   "id": "a5ef3055",
   "metadata": {},
   "outputs": [
    {
     "name": "stdout",
     "output_type": "stream",
     "text": [
      "Hi , Prakriti.We have set your pronoun as she/her.\n",
      "Hi , Robert.We have set your pronoun as he/him.\n",
      "Hi , anonymous.We have set your pronoun as not determined for now.\n"
     ]
    }
   ],
   "source": [
    "def say_hi(name=\"anonymous\" , pronoun=\"not determined for now\"):   \n",
    "\tprint(f'Hi , {name}.We have set your pronoun as {pronoun}.')  \n",
    "    \n",
    "say_hi(name=\"Prakriti\",pronoun=\"she/her\")   #keyword arguments\n",
    "say_hi(pronoun=\"he/him\",name=\"Robert\")\n",
    "say_hi() #default arguments"
   ]
  },
  {
   "cell_type": "markdown",
   "id": "29217268",
   "metadata": {},
   "source": [
    "### Classes In Python "
   ]
  },
  {
   "cell_type": "code",
   "execution_count": 81,
   "id": "0d8cfb9f",
   "metadata": {},
   "outputs": [],
   "source": [
    "class Cat:\n",
    "    species = 'mammal'\n",
    "    def __init__(self, name, age):\n",
    "        self.name = name\n",
    "        self.age = age"
   ]
  },
  {
   "cell_type": "markdown",
   "id": "e7f6d5ba",
   "metadata": {},
   "source": [
    "#### Instantiation of objects of the specific class"
   ]
  },
  {
   "cell_type": "code",
   "execution_count": 86,
   "id": "db54efb5",
   "metadata": {},
   "outputs": [],
   "source": [
    "cat1 = Cat(\"meowcha\", 10)\n",
    "cat2 = Cat(\"tagasi\",9)\n",
    "cat3 = Cat(\"mona\",13)"
   ]
  },
  {
   "cell_type": "markdown",
   "id": "295178f6",
   "metadata": {},
   "source": [
    "#### Function to Find the Oldest Cat "
   ]
  },
  {
   "cell_type": "code",
   "execution_count": 87,
   "id": "8cafa537",
   "metadata": {},
   "outputs": [],
   "source": [
    "def OldestCat(*arguments):\n",
    "\treturn max(arguments)"
   ]
  },
  {
   "cell_type": "code",
   "execution_count": 88,
   "id": "0b552a00",
   "metadata": {},
   "outputs": [
    {
     "name": "stdout",
     "output_type": "stream",
     "text": [
      "The oldest cat is 13 years old\n"
     ]
    }
   ],
   "source": [
    "print(f\"The oldest cat is {OldestCat(cat1.age,cat2.age,cat3.age)} years old\")"
   ]
  },
  {
   "cell_type": "markdown",
   "id": "f926e626",
   "metadata": {},
   "source": [
    "#### Another Implementation of Class "
   ]
  },
  {
   "cell_type": "code",
   "execution_count": 89,
   "id": "b0933f7e",
   "metadata": {},
   "outputs": [
    {
     "name": "stdout",
     "output_type": "stream",
     "text": [
      "1\n"
     ]
    }
   ],
   "source": [
    "class Animal:\n",
    "    def __init__(self, name, age):\n",
    "        self.name = name\n",
    "        self.age = age\n",
    "\t\t#Example of a class method.\n",
    "    @classmethod\n",
    "    def CalculateAge(cls, birthyear):\n",
    "        return cls('name', abs(birthyear-2020))\n",
    "animal1 = Animal.CalculateAge(2019)\n",
    "print(animal1.age)"
   ]
  },
  {
   "cell_type": "markdown",
   "id": "42b92879",
   "metadata": {},
   "source": [
    "#### Inheritance in Python"
   ]
  },
  {
   "cell_type": "code",
   "execution_count": 90,
   "id": "65344025",
   "metadata": {},
   "outputs": [
    {
     "name": "stdout",
     "output_type": "stream",
     "text": [
      "Simon is just walking around\n",
      "Sally is just walking around\n",
      "Suzy is just walking around\n"
     ]
    }
   ],
   "source": [
    "\n",
    "class Pets():\n",
    "    animals = []\n",
    "    def __init__(self, animals):\n",
    "        self.animals = animals\n",
    "    def walk(self):\n",
    "        for animal in self.animals:\n",
    "            print(animal.walk())\n",
    "class Cat():\n",
    "    is_lazy = True\n",
    "    def __init__(self, name, age):\n",
    "        self.name = name\n",
    "        self.age = age\n",
    "    def walk(self):\n",
    "        return f'{self.name} is just walking around'\n",
    "class Simon(Cat):\n",
    "    def sing(self, sounds):\n",
    "        return f'{sounds}'\n",
    "class Sally(Cat):\n",
    "    def sing(self, sounds):\n",
    "        return f'{sounds}'\n",
    "class Suzy(Cat):\n",
    "    def sing(self, sounds):\n",
    "        return f'{sounds}'\n",
    "\n",
    "#Creating a list of all pets\n",
    "my_cats = [Simon('Simon', 4), Sally('Sally', 21), Suzy('Suzy', 1)]\n",
    "#Instantiation of the Pet class with all the cats\n",
    "my_pets = Pets(my_cats)\n",
    "#Output all of the cats singing using the my_pets instance\n",
    "my_pets.walk()"
   ]
  },
  {
   "cell_type": "markdown",
   "id": "5e43ae8f",
   "metadata": {},
   "source": [
    "#### Map function "
   ]
  },
  {
   "cell_type": "code",
   "execution_count": 91,
   "id": "f83e33c7",
   "metadata": {},
   "outputs": [
    {
     "name": "stdout",
     "output_type": "stream",
     "text": [
      "[3, 4, 5, 6, 7]\n"
     ]
    }
   ],
   "source": [
    "def add2(num):\n",
    "    return num + 2\n",
    "num = [1,2,3,4,5]\n",
    "result = map(add2,num)  \n",
    "print(list(result))\n"
   ]
  },
  {
   "cell_type": "markdown",
   "id": "cb54f8d0",
   "metadata": {},
   "source": [
    "#### Lambda expression : A shorthand for non-reuseable functions"
   ]
  },
  {
   "cell_type": "code",
   "execution_count": 92,
   "id": "1d30f7a4",
   "metadata": {},
   "outputs": [
    {
     "name": "stdout",
     "output_type": "stream",
     "text": [
      "The result is 15\n"
     ]
    }
   ],
   "source": [
    "x = lambda x,y,z: print(f\"The result is {x+y+z}\") \n",
    "x(5,5,5)"
   ]
  },
  {
   "cell_type": "markdown",
   "id": "33998800",
   "metadata": {},
   "source": [
    " #### Printing duplicates present in a list   "
   ]
  },
  {
   "cell_type": "code",
   "execution_count": 93,
   "id": "0f1875f6",
   "metadata": {},
   "outputs": [
    {
     "name": "stdout",
     "output_type": "stream",
     "text": [
      "[5, 7]\n"
     ]
    }
   ],
   "source": [
    "_list = [1,2,3,4,5,5,6,7,7,7,7,7,7,7,7,7]\n",
    "_listtwo=[]\n",
    "for data in _list:\n",
    "\tif _list.count(data) > 1:\n",
    "\t\tif data not in _listtwo:\n",
    "\t\t\t_listtwo.append(data)\n",
    "print(_listtwo)"
   ]
  },
  {
   "cell_type": "markdown",
   "id": "fce7618f",
   "metadata": {},
   "source": [
    "#### Removing duplicates from a list"
   ]
  },
  {
   "cell_type": "code",
   "execution_count": 94,
   "id": "e995a861",
   "metadata": {},
   "outputs": [
    {
     "name": "stdout",
     "output_type": "stream",
     "text": [
      "{'b', 'n'}\n"
     ]
    }
   ],
   "source": [
    "some_list = ['a','b','c','b','d','m','n','n']\n",
    "dup = set([ x for x  in some_list if (some_list.count(x) > 1)])\n",
    "print(dup)"
   ]
  },
  {
   "cell_type": "markdown",
   "id": "5db39284",
   "metadata": {},
   "source": [
    "#### Dictonary in Python"
   ]
  },
  {
   "cell_type": "code",
   "execution_count": 95,
   "id": "b617006a",
   "metadata": {},
   "outputs": [
    {
     "name": "stdout",
     "output_type": "stream",
     "text": [
      "{1: {'username': 'purplebubbles', 'password': 'Iamgroot'}, 2: {'username': 'sickpea', 'password': 'senorita'}}\n"
     ]
    }
   ],
   "source": [
    " details = {\n",
    "\t\t\t\t\t 1:{\"username\":\"purplebubbles\",\"password\":\"Iamgroot\"},\n",
    "\t\t\t\t\t 2:{\"username\":\"sickpea\",\"password\":\"senorita\"},\n",
    "\t\t\t}\n",
    "for key,value in enumerate(details.items()):\n",
    "\tfor i in key,value:\n",
    "\t\tif i== 0: \n",
    "\t\t\tprint(details)"
   ]
  },
  {
   "cell_type": "markdown",
   "id": "a6a900de",
   "metadata": {},
   "source": [
    "### Dictionary comprehension"
   ]
  },
  {
   "cell_type": "code",
   "execution_count": 99,
   "id": "59164af2",
   "metadata": {},
   "outputs": [
    {
     "name": "stdout",
     "output_type": "stream",
     "text": [
      "{'a': 1, 'b': 4}\n"
     ]
    }
   ],
   "source": [
    "\n",
    "dict1= {\n",
    "    'a':1,\n",
    "    'b':2\n",
    "}\n",
    "my_dict = {k:v ** 2 for k , v in dict1.items()}  \n",
    "print(my_dict)"
   ]
  },
  {
   "cell_type": "markdown",
   "id": "d7a1f36f",
   "metadata": {},
   "source": [
    "### List comprehension"
   ]
  },
  {
   "cell_type": "code",
   "execution_count": 96,
   "id": "cc96f001",
   "metadata": {},
   "outputs": [
    {
     "name": "stdout",
     "output_type": "stream",
     "text": [
      "['p', 'u', 'r', 'p', 'l', 'e']\n"
     ]
    }
   ],
   "source": [
    "my_list = [ x for x in 'purple']  \n",
    "print(my_list) "
   ]
  },
  {
   "cell_type": "markdown",
   "id": "e6146003",
   "metadata": {},
   "source": [
    "#### List comprehension with manipulation\n"
   ]
  },
  {
   "cell_type": "code",
   "execution_count": 97,
   "id": "f7e06234",
   "metadata": {},
   "outputs": [
    {
     "name": "stdout",
     "output_type": "stream",
     "text": [
      "['P', 'U', 'R', 'P', 'L', 'E']\n"
     ]
    }
   ],
   "source": [
    "my_list = [ x.upper() for x in 'purple']  \n",
    "print(my_list)"
   ]
  },
  {
   "cell_type": "markdown",
   "id": "6519e576",
   "metadata": {},
   "source": [
    " #### List comprehension with condition"
   ]
  },
  {
   "cell_type": "code",
   "execution_count": 98,
   "id": "8bcac58c",
   "metadata": {},
   "outputs": [
    {
     "name": "stdout",
     "output_type": "stream",
     "text": [
      "[0, 4, 16, 36, 64]\n"
     ]
    }
   ],
   "source": [
    "li = [x**2 for x in range(0,10) if x % 2 == 0]  \n",
    "print(li)      "
   ]
  },
  {
   "cell_type": "markdown",
   "id": "fb5b06f3",
   "metadata": {},
   "source": [
    "### Sets comprehension"
   ]
  },
  {
   "cell_type": "code",
   "execution_count": 60,
   "id": "64e9fc33",
   "metadata": {},
   "outputs": [
    {
     "name": "stdout",
     "output_type": "stream",
     "text": [
      "{'r', 'p', 'l', 'u', 'e'}\n"
     ]
    }
   ],
   "source": [
    "my_set = {x for x in 'purple'}  \n",
    "print(my_set)"
   ]
  },
  {
   "cell_type": "markdown",
   "id": "7a5951ab",
   "metadata": {},
   "source": [
    "#### Decoraters In Python"
   ]
  },
  {
   "cell_type": "code",
   "execution_count": 68,
   "id": "28ae50d7",
   "metadata": {},
   "outputs": [
    {
     "name": "stdout",
     "output_type": "stream",
     "text": [
      "****************\n",
      "Hola!\n",
      "***************\n",
      "Sum = 499999500000\n",
      "The execution time of the function was :0.0573277473449707s\n"
     ]
    }
   ],
   "source": [
    " \n",
    "def decorator1(func):\n",
    "    def wrapper():\n",
    "        print('****************')\n",
    "        func()\n",
    "        print(\"***************\")\n",
    "    return wrapper\n",
    "\n",
    "@decorator1\n",
    "def hi():\n",
    "    print(f\"Hola!\")\n",
    "\n",
    "hi()\n",
    "\n",
    "\n",
    "def decorator1(fun1):\n",
    "    def wrapper(name):\n",
    "        print('****************')\n",
    "        fun1(name)\n",
    "        print(\"***************\")\n",
    "    return wrapper\n",
    "#A performance decorater to test the execution time of a function.\n",
    "from time import time\n",
    "def timeTaken(func):\n",
    "    def wrap():\n",
    "        T1 = time()\n",
    "        func()\n",
    "        T2 = time()\n",
    "        print(f\"The execution time of the function was :{T2-T1}s\")\n",
    "    return wrap\n",
    "\n",
    "@timeTaken\n",
    "def sum():\n",
    "    '''A function to print the sum of first 100 natural numbers.'''\n",
    "    res = 0\n",
    "    for i in range(1000000):\n",
    "        res = res + i\n",
    "    print(f\"Sum = {res}\") \n",
    "\n",
    "sum()"
   ]
  },
  {
   "cell_type": "markdown",
   "id": "c5be4c5f",
   "metadata": {},
   "source": [
    "### Error handling "
   ]
  },
  {
   "cell_type": "code",
   "execution_count": 69,
   "id": "d8adf9f2",
   "metadata": {},
   "outputs": [
    {
     "name": "stdout",
     "output_type": "stream",
     "text": [
      "What is your age?\t0\n",
      "Age cannot be zero\n",
      "What is your age?\t10\n",
      "Age stored.Thank you!\n"
     ]
    }
   ],
   "source": [
    "while True:\n",
    "    try:\n",
    "        age = int(input(\"What is your age?\\t\"))\n",
    "        10/age\n",
    "    except ValueError:\n",
    "        print(\"Age must be a number.\")\n",
    "    except ZeroDivisionError:\n",
    "        print(\"Age cannot be zero\")\n",
    "    else:\n",
    "        print('Age stored.Thank you!')\n",
    "        break"
   ]
  },
  {
   "cell_type": "markdown",
   "id": "96d35148",
   "metadata": {},
   "source": [
    "#### Displaying the error "
   ]
  },
  {
   "cell_type": "code",
   "execution_count": 71,
   "id": "6f1c34e3",
   "metadata": {},
   "outputs": [
    {
     "name": "stdout",
     "output_type": "stream",
     "text": [
      "What is your age?\t0\n",
      "division by zero Invalid Age Input\n",
      "What is your age?\t10\n",
      "Age stored.Thank you!\n"
     ]
    }
   ],
   "source": [
    "\n",
    "while True:\n",
    "    try:\n",
    "        age = int(input(\"What is your age?\\t\"))\n",
    "        10/age\n",
    "    except (ValueError,ZeroDivisionError) as error:\n",
    "        print(error , \"Invalid Age Input\")\n",
    "    else:\n",
    "        print('Age stored.Thank you!')\n",
    "        break\n",
    "#----------------------------------------------------"
   ]
  },
  {
   "cell_type": "markdown",
   "id": "c0197841",
   "metadata": {},
   "source": [
    "Thats it with the basics !!"
   ]
  }
 ],
 "metadata": {
  "kernelspec": {
   "display_name": "Python 3 (ipykernel)",
   "language": "python",
   "name": "python3"
  },
  "language_info": {
   "codemirror_mode": {
    "name": "ipython",
    "version": 3
   },
   "file_extension": ".py",
   "mimetype": "text/x-python",
   "name": "python",
   "nbconvert_exporter": "python",
   "pygments_lexer": "ipython3",
   "version": "3.9.7"
  }
 },
 "nbformat": 4,
 "nbformat_minor": 5
}
